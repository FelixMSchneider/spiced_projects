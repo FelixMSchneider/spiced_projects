{
 "cells": [
  {
   "cell_type": "code",
   "execution_count": 2,
   "id": "5388b383",
   "metadata": {},
   "outputs": [],
   "source": [
    "import pandas as pd\n",
    "import seaborn as sns\n",
    "import pylab as plt\n",
    "import numpy as np\n",
    "\n",
    "from sklearn.ensemble import RandomForestClassifier\n",
    "from sklearn.metrics import accuracy_score\n",
    "\n",
    "from sklearn.linear_model import LogisticRegression\n",
    "from sklearn.model_selection import train_test_split"
   ]
  },
  {
   "cell_type": "code",
   "execution_count": 6,
   "id": "b1a93244",
   "metadata": {},
   "outputs": [],
   "source": [
    "#kaggle=False\n",
    "kaggle=True\n",
    "\n",
    "\n",
    "datapath=\"/home/felix/spiced/02_week/data/\"\n",
    "\n",
    "df=pd.read_csv(datapath + \"train.csv\")\n",
    "\n",
    "if not kaggle:\n",
    "    # split data if not using whole test.csv for kaggle\n",
    "    df_tmp, df_test  = train_test_split(df    ,test_size=0.2, random_state=12)\n",
    "    df_train, df_val = train_test_split(df_tmp,test_size=0.2, random_state=12)\n",
    "else:\n",
    "    df_train=df\n",
    "    df_test=pd.read_csv(datapath + \"test.csv\")\n",
    "\n",
    "def add_title(df):\n",
    "    df[\"title\"]=df[\"Name\"].transform(lambda x: x.split(\",\")[1].split()[0].split(\".\")[0])\n",
    "    return df\n",
    "\n",
    "def onehot_titles(df):\n",
    "    alltitles=df[\"title\"].unique()\n",
    "\n",
    "    title_map_dict={'Mme': 'Mrs',\n",
    "                   'Mlle': 'Miss',\n",
    "                   'Ms': 'Miss',\n",
    "                   'Mr': 'Mr',\n",
    "                   'Mrs': 'Mrs',\n",
    "                   'Miss': 'Miss',\n",
    "                   'Master': 'Master'}\n",
    "\n",
    "    for tit in alltitles:\n",
    "        if not tit in title_map_dict.keys():\n",
    "            title_map_dict[tit]= \"other\"\n",
    "    df['newtitle']=df['title'].map(title_map_dict)\n",
    "    onehot=pd.get_dummies(df[\"newtitle\"], drop_first=True)\n",
    "    df=df.join(onehot)\n",
    "    df=df.drop('newtitle', axis=1)\n",
    "    return df\n",
    "\n",
    "def fill_Agenans_from_title(df, df_train=None):\n",
    "    # Agemeans  per title\n",
    "    if type(df_train)==type(None):\n",
    "        print(\"training df is not given. Use df for means\")\n",
    "        df_train=df\n",
    "    agemeans_from_title = df_train.groupby('title')['Age'].apply('mean')\n",
    "    df[\"new_Age\"]=df['Age'].fillna(df['title'].map(agemeans_from_title))\n",
    "    return df\n",
    "\n",
    "# define functions for preprocessing (encoding and na-replacement)\n",
    "\n",
    "def encode_sex(df):\n",
    "    df[\"male\"]=pd.get_dummies(df['Sex'] , drop_first=True)\n",
    "    return df\n",
    "\n",
    "def add_Pclass_sex(df):\n",
    "    df[\"class_sex\"]=df[\"Pclass\"].transform(str) + \"_\" + df[\"Sex\"].str[0]\n",
    "    return df\n",
    "\n",
    "def fillna_groups(df,groupmean=None):\n",
    "    '''\n",
    "    this function fills na of Age based on mean values for groups\n",
    "    groups are defined by Passenger class_sex (combination of passenger class and sex)\n",
    "    if groupmean=None: \n",
    "         Groupmeans are derived and imposed to nans\n",
    "         Groupmeans are returned\n",
    "    if groupmeans dictionary is passed: groupmeans of dictionary are imposed to nan values \n",
    "\n",
    "    for test data give groupmeans of train data \n",
    "    '''\n",
    "    if type(groupmean)==type(None):\n",
    "        groupmean=df.groupby(\"class_sex\")[\"Age\"].mean()\n",
    "    df['new_Age'] = df['Age'].fillna(df['class_sex'].map(groupmean))\n",
    "    return df,groupmean\n",
    "\n",
    "def preprocessing(df,trainmean=None):\n",
    "    df = encode_sex(df)\n",
    "    df=add_Pclass_sex(df)\n",
    "    df,groupmean=fillna_groups(df, groupmean=trainmean)\n",
    "    return df,groupmean    \n",
    "\n",
    "def preprocessing2(df):\n",
    "    df = encode_sex(df)\n",
    "    df=add_title(df)\n",
    "    df=onehot_titles(df)\n",
    "    df=fill_Agenans_from_title(df,df_train)\n",
    "    return df    \n",
    "\n",
    "\n",
    "\n",
    "#df_train, trainmean = preprocessing(df_train)\n",
    "#df_test ,       dum = preprocessing(df_test, trainmean)\n",
    "\n",
    "df_train = preprocessing2(df_train)\n",
    "df_test  = preprocessing2(df_test)"
   ]
  },
  {
   "cell_type": "code",
   "execution_count": 7,
   "id": "3836e724",
   "metadata": {},
   "outputs": [
    {
     "data": {
      "text/plain": [
       "Index(['PassengerId', 'Survived', 'Pclass', 'Name', 'Sex', 'Age', 'SibSp',\n",
       "       'Parch', 'Ticket', 'Fare', 'Cabin', 'Embarked', 'male', 'title', 'Miss',\n",
       "       'Mr', 'Mrs', 'other', 'new_Age'],\n",
       "      dtype='object')"
      ]
     },
     "execution_count": 7,
     "metadata": {},
     "output_type": "execute_result"
    }
   ],
   "source": [
    "df_train.columns"
   ]
  },
  {
   "cell_type": "code",
   "execution_count": 8,
   "id": "1ad34d29",
   "metadata": {},
   "outputs": [
    {
     "name": "stdout",
     "output_type": "stream",
     "text": [
      "Training score : 0.8170594837261503\n"
     ]
    }
   ],
   "source": [
    "#define test and train dataset\n",
    "Xtrain = df_train[['male','Pclass','new_Age', 'SibSp', 'Miss', 'Mr', 'Mrs', 'other' ]] \n",
    "Xtest  =  df_test[['male','Pclass','new_Age', 'SibSp', 'Miss', 'Mr', 'Mrs', 'other' ]] \n",
    "\n",
    "ytrain = df_train[\"Survived\"]\n",
    "if not kaggle: ytest  =  df_test[\"Survived\"]\n",
    "\n",
    "\n",
    "m = RandomForestClassifier(max_depth=3, n_estimators=1000)  # n_estimators is the number of decision trees\n",
    "\n",
    "m.fit(Xtrain, ytrain)\n",
    "\n",
    "train_score=m.score(Xtrain,ytrain)\n",
    "\n",
    "print(\"Training score :\" , train_score)\n",
    "if not kaggle:\n",
    "    test_score=m.score(Xtest,ytest)\n",
    "    print(\"Testing  score :\" , test_score)\n",
    "else:\n",
    "    # prepare result.csv file  for submission to kaggle\n",
    "\n",
    "    pred=m.predict(Xtest)\n",
    "    df_result=pd.DataFrame()\n",
    "    df_result[\"PassengerId\"]=df_test[\"PassengerId\"]\n",
    "    df_result.reset_index(inplace=True)\n",
    "    df_result[\"Survived\"]=pd.Series(pred)\n",
    "    df_result.set_index(\"PassengerId\", inplace=True)\n",
    "    df_result.drop(\"index\", axis=1, inplace=True) \n",
    "    df_result.to_csv(\"result_RF2.csv\")"
   ]
  },
  {
   "cell_type": "code",
   "execution_count": null,
   "id": "a29a1cf6",
   "metadata": {},
   "outputs": [],
   "source": []
  }
 ],
 "metadata": {
  "kernelspec": {
   "display_name": "py3_Nspiced",
   "language": "python",
   "name": "py3_nspiced"
  },
  "language_info": {
   "codemirror_mode": {
    "name": "ipython",
    "version": 3
   },
   "file_extension": ".py",
   "mimetype": "text/x-python",
   "name": "python",
   "nbconvert_exporter": "python",
   "pygments_lexer": "ipython3",
   "version": "3.10.6"
  }
 },
 "nbformat": 4,
 "nbformat_minor": 5
}
