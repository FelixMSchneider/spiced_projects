{
 "cells": [
  {
   "cell_type": "code",
   "execution_count": 14,
   "metadata": {},
   "outputs": [],
   "source": [
    "import pandas as pd\n",
    "import seaborn as sns\n",
    "import pylab as plt\n",
    "import numpy as np\n",
    "\n",
    "from sklearn.linear_model import LogisticRegression\n",
    "from sklearn.model_selection import train_test_split\n",
    "\n",
    "df=pd.read_csv(\"../../../02_week/data/train.csv\")\n",
    "\n",
    "X = df[['Sex','Pclass','Age', 'Survived']]   # <=== features/independent variables\n",
    "y = df['Survived']\n",
    "\n",
    "Xtrain, Xtest, ytrain, ytest = train_test_split(X, y, test_size=0.2, random_state=12)"
   ]
  },
  {
   "cell_type": "code",
   "execution_count": 2,
   "metadata": {},
   "outputs": [],
   "source": [
    "Xtrain=Xtrain.reset_index()\n",
    "ytrain=ytrain.reset_index()\n",
    "Xtest=Xtest.reset_index()\n",
    "ytest=ytest.reset_index()"
   ]
  },
  {
   "cell_type": "code",
   "execution_count": 8,
   "metadata": {},
   "outputs": [
    {
     "data": {
      "text/plain": [
       "0      0\n",
       "1      0\n",
       "2      0\n",
       "3      0\n",
       "4      0\n",
       "      ..\n",
       "174    0\n",
       "175    0\n",
       "176    0\n",
       "177    0\n",
       "178    1\n",
       "Name: Survived, Length: 179, dtype: int64"
      ]
     },
     "execution_count": 8,
     "metadata": {},
     "output_type": "execute_result"
    }
   ],
   "source": [
    "ytest[\"Survived\"]"
   ]
  },
  {
   "cell_type": "code",
   "execution_count": 3,
   "metadata": {},
   "outputs": [],
   "source": [
    "def encode_sex(df):\n",
    "    df[\"male\"]=pd.get_dummies(df['Sex'] , drop_first=True)\n",
    "    return df\n",
    "\n",
    "def get_group_means(df):\n",
    "    Group=df.groupby([\"Sex\",\"Pclass\"])\n",
    "    cdict={}\n",
    "    meandict={}\n",
    "    for (sex,pclass),sub_df in Group:\n",
    "        key=sex+\"_\"+str(pclass)\n",
    "        cdict[key]=sub_df\n",
    "        meandict[key]=sub_df[\"Age\"].mean()\n",
    "    return cdict, meandict\n",
    "\n",
    "def impose_group_means(cdict,meandict):\n",
    "    for i, key in enumerate(cdict.keys()):\n",
    "        cur_df=cdict[key]\n",
    "        cur_df[\"new_Age\"]=cur_df[\"Age\"].fillna(meandict[key])\n",
    "\n",
    "        if i==0: final_df=cur_df\n",
    "        if i>0:\n",
    "            final_df=pd.concat([final_df, cur_df])\n",
    "\n",
    "    return final_df.sort_index()"
   ]
  },
  {
   "cell_type": "code",
   "execution_count": 4,
   "metadata": {},
   "outputs": [],
   "source": [
    "Xtrain = encode_sex(Xtrain)\n",
    "cdict_train, meandict_train = get_group_means(Xtrain)\n",
    "Xtrain = impose_group_means(cdict_train, meandict_train)"
   ]
  },
  {
   "cell_type": "code",
   "execution_count": 6,
   "metadata": {},
   "outputs": [
    {
     "data": {
      "text/html": [
       "<div>\n",
       "<style scoped>\n",
       "    .dataframe tbody tr th:only-of-type {\n",
       "        vertical-align: middle;\n",
       "    }\n",
       "\n",
       "    .dataframe tbody tr th {\n",
       "        vertical-align: top;\n",
       "    }\n",
       "\n",
       "    .dataframe thead th {\n",
       "        text-align: right;\n",
       "    }\n",
       "</style>\n",
       "<table border=\"1\" class=\"dataframe\">\n",
       "  <thead>\n",
       "    <tr style=\"text-align: right;\">\n",
       "      <th></th>\n",
       "      <th>index</th>\n",
       "      <th>Sex</th>\n",
       "      <th>Pclass</th>\n",
       "      <th>Age</th>\n",
       "      <th>male</th>\n",
       "      <th>new_Age</th>\n",
       "    </tr>\n",
       "  </thead>\n",
       "  <tbody>\n",
       "    <tr>\n",
       "      <th>707</th>\n",
       "      <td>241</td>\n",
       "      <td>female</td>\n",
       "      <td>3</td>\n",
       "      <td>NaN</td>\n",
       "      <td>0</td>\n",
       "      <td>21.847973</td>\n",
       "    </tr>\n",
       "    <tr>\n",
       "      <th>708</th>\n",
       "      <td>253</td>\n",
       "      <td>male</td>\n",
       "      <td>3</td>\n",
       "      <td>30.0</td>\n",
       "      <td>1</td>\n",
       "      <td>30.000000</td>\n",
       "    </tr>\n",
       "    <tr>\n",
       "      <th>709</th>\n",
       "      <td>390</td>\n",
       "      <td>male</td>\n",
       "      <td>1</td>\n",
       "      <td>36.0</td>\n",
       "      <td>1</td>\n",
       "      <td>36.000000</td>\n",
       "    </tr>\n",
       "    <tr>\n",
       "      <th>710</th>\n",
       "      <td>667</td>\n",
       "      <td>male</td>\n",
       "      <td>3</td>\n",
       "      <td>NaN</td>\n",
       "      <td>1</td>\n",
       "      <td>26.038824</td>\n",
       "    </tr>\n",
       "    <tr>\n",
       "      <th>711</th>\n",
       "      <td>843</td>\n",
       "      <td>male</td>\n",
       "      <td>3</td>\n",
       "      <td>34.5</td>\n",
       "      <td>1</td>\n",
       "      <td>34.500000</td>\n",
       "    </tr>\n",
       "  </tbody>\n",
       "</table>\n",
       "</div>"
      ],
      "text/plain": [
       "     index     Sex  Pclass   Age  male    new_Age\n",
       "707    241  female       3   NaN     0  21.847973\n",
       "708    253    male       3  30.0     1  30.000000\n",
       "709    390    male       1  36.0     1  36.000000\n",
       "710    667    male       3   NaN     1  26.038824\n",
       "711    843    male       3  34.5     1  34.500000"
      ]
     },
     "execution_count": 6,
     "metadata": {},
     "output_type": "execute_result"
    }
   ],
   "source": [
    "Xtrain.tail()"
   ]
  },
  {
   "cell_type": "code",
   "execution_count": 15,
   "metadata": {},
   "outputs": [],
   "source": [
    "df=df[df[\"Age\"].isna()==False]"
   ]
  },
  {
   "cell_type": "code",
   "execution_count": null,
   "metadata": {},
   "outputs": [],
   "source": []
  }
 ],
 "metadata": {
  "kernelspec": {
   "display_name": "py3_Nspiced",
   "language": "python",
   "name": "py3_nspiced"
  },
  "language_info": {
   "codemirror_mode": {
    "name": "ipython",
    "version": 3
   },
   "file_extension": ".py",
   "mimetype": "text/x-python",
   "name": "python",
   "nbconvert_exporter": "python",
   "pygments_lexer": "ipython3",
   "version": "3.10.6"
  }
 },
 "nbformat": 4,
 "nbformat_minor": 4
}
