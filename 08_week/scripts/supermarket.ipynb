{
 "cells": [
  {
   "cell_type": "code",
   "execution_count": null,
   "metadata": {},
   "outputs": [],
   "source": [
    "import numpy as np\n",
    "import pandas as pd\n",
    "import random\n",
    "\n",
    "pm=pd.read_csv(\"propability_matrix.csv\")     \n",
    "pm.set_index(\"location\",inplace=True)\n",
    "        \n",
    "PROBABILITIE_MATRIX=pm\n",
    "\n",
    "\n",
    "\n",
    "class Customer:\n",
    "     \n",
    "    def __init__(self, entry_time,custid,probability_matrix=pm):\n",
    "        self.location = \"entry\"\n",
    "        self.probability_matrix = probability_matrix\n",
    "        assert type(entry_time) == pd._libs.tslibs.timestamps.Timestamp , \"entry time has to be pandas.Timestamp\"\n",
    "        self.current_time = entry_time\n",
    "        self.cust_id=custid    \n",
    "        \n",
    "    def do_next_move(self): \n",
    "        locations=list(pm.columns)\n",
    "        probabilities=pm.loc[self.location]\n",
    "        if self.location != \"entry\":\n",
    "             self.current_time = self.current_time + pd.Timedelta(\"60s\")\n",
    "        self.location=random.choices(locations,weights=list(probabilities))[0]\n",
    "        \n",
    "    def do_shopping(self):\n",
    "        self.track=[self.location,]\n",
    "        self.timings=[self.current_time,]\n",
    "        while self.location !=\"checkout\":\n",
    "            self.do_next_move() \n",
    "            if self.current_time.hour >= 22:\n",
    "                self.track.append(\"checkout\")\n",
    "                self.timings.append(self.current_time)\n",
    "                break\n",
    "            self.track.append(self.location)\n",
    "            self.timings.append(self.current_time)      \n",
    "        self.get_times()\n",
    "\n",
    "    def get_times(self):\n",
    "        hours   = [t.hour   for t in self.timings]\n",
    "        minutes = [t.minute for t in self.timings]\n",
    "        times=[str(h).zfill(2) + \":\"+ str(minutes[i]).zfill(2) for i,h in enumerate(hours)]\n",
    "        self.times=times\n",
    "    \n"
   ]
  },
  {
   "cell_type": "code",
   "execution_count": null,
   "metadata": {},
   "outputs": [],
   "source": [
    "import pylab as plt"
   ]
  },
  {
   "cell_type": "code",
   "execution_count": null,
   "metadata": {},
   "outputs": [],
   "source": [
    "cust=Customer(pd.Timestamp(2020,1,1,12,59,0),1)\n",
    "cust.do_shopping()\n",
    "plt.plot(cust.times, cust.track, \"o\")\n",
    "plt.plot(cust.times, cust.track, \"--\")"
   ]
  },
  {
   "cell_type": "code",
   "execution_count": null,
   "metadata": {},
   "outputs": [],
   "source": [
    "pm"
   ]
  },
  {
   "cell_type": "code",
   "execution_count": null,
   "metadata": {},
   "outputs": [],
   "source": [
    "class SuperMarket:\n",
    "    def __init__(self):\n",
    "        self.start_hour=8\n",
    "        self.stop_hour=22\n",
    "        self.year=2020\n",
    "        self.month=1\n",
    "        self.day=1\n",
    "        self.current_time=pd.Timestamp(self.year,self.month,self.day,self.start_hour,0,0)\n",
    "        #self.nocust=poisson(1.0, 1)\n",
    "        \n",
    "    def number_of_customers(self):\n",
    "        from numpy.random import poisson\n",
    "        self.newcust_per_min=poisson(1.0, 1)[0] # [0] to get frist element of the array\n",
    "    \n",
    "    def run_day_simulator(self):\n",
    "        cust_cnt=0\n",
    "        self.cust_dict={}\n",
    "        while self.current_time < pd.Timestamp(self.year,self.month,self.day,self.stop_hour,0,0):\n",
    "            self.number_of_customers()\n",
    "            print(self.current_time)\n",
    "            for _ in range(self.newcust_per_min):\n",
    "                cust_cnt+=1\n",
    "                cust = Customer(self.current_time, cust_cnt)\n",
    "                cust.do_shopping()\n",
    "                self.cust_dict[cust.cust_id]=cust.track\n",
    "                print(cust.cust_id)\n",
    "            self.current_time=self.current_time + pd.Timedelta(\"60s\")\n",
    "  \n",
    "            \n",
    "        \n",
    "     "
   ]
  },
  {
   "cell_type": "code",
   "execution_count": null,
   "metadata": {},
   "outputs": [],
   "source": [
    "SM=SuperMarket()"
   ]
  },
  {
   "cell_type": "code",
   "execution_count": null,
   "metadata": {},
   "outputs": [],
   "source": [
    "SM.current_time"
   ]
  },
  {
   "cell_type": "code",
   "execution_count": null,
   "metadata": {},
   "outputs": [],
   "source": [
    "SM.run_day_simulator()"
   ]
  },
  {
   "cell_type": "code",
   "execution_count": null,
   "metadata": {},
   "outputs": [],
   "source": [
    "SM.cust_dict"
   ]
  }
 ],
 "metadata": {
  "kernelspec": {
   "display_name": "py3_Nspiced",
   "language": "python",
   "name": "py3_nspiced"
  },
  "language_info": {
   "codemirror_mode": {
    "name": "ipython",
    "version": 3
   },
   "file_extension": ".py",
   "mimetype": "text/x-python",
   "name": "python",
   "nbconvert_exporter": "python",
   "pygments_lexer": "ipython3",
   "version": "3.10.6"
  }
 },
 "nbformat": 4,
 "nbformat_minor": 4
}
