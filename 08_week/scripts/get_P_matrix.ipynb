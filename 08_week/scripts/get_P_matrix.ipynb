{
 "cells": [
  {
   "cell_type": "code",
   "execution_count": null,
   "id": "70330354",
   "metadata": {},
   "outputs": [],
   "source": [
    "import pickle\n",
    "df_supermarket=pickle.load(open(\"df_supermarket.pickle\", \"rb\"))"
   ]
  },
  {
   "cell_type": "code",
   "execution_count": null,
   "id": "779f23fa",
   "metadata": {},
   "outputs": [],
   "source": [
    "df_supermarket[df_supermarket[\"cID\"]==\"monday_1\"]"
   ]
  },
  {
   "cell_type": "code",
   "execution_count": null,
   "id": "c049ad63",
   "metadata": {},
   "outputs": [],
   "source": [
    "df_supermarket.sort_values([\"cID\", \"timestamp\"], inplace=True)\n",
    "    "
   ]
  },
  {
   "cell_type": "code",
   "execution_count": null,
   "id": "15b67d90",
   "metadata": {},
   "outputs": [],
   "source": [
    "df_supermarket[\"location_shifted\"]=df_supermarket[\"location\"].shift(-1)"
   ]
  },
  {
   "cell_type": "code",
   "execution_count": null,
   "id": "360d0931",
   "metadata": {},
   "outputs": [],
   "source": [
    "df_supermarket[df_supermarket[\"cID\"]==\"monday_1\"]"
   ]
  },
  {
   "cell_type": "code",
   "execution_count": null,
   "id": "29579bd3",
   "metadata": {},
   "outputs": [],
   "source": [
    "import pandas as pd"
   ]
  },
  {
   "cell_type": "code",
   "execution_count": null,
   "id": "a51fecde",
   "metadata": {},
   "outputs": [],
   "source": [
    "pd.crosstab(df_supermarket[\"location\"],df_supermarket[\"location_shifted\"])"
   ]
  },
  {
   "cell_type": "code",
   "execution_count": null,
   "id": "01b136f9",
   "metadata": {},
   "outputs": [],
   "source": [
    "crosstable=pd.crosstab(df_supermarket[\"location\"],df_supermarket[\"location_shifted\"])"
   ]
  },
  {
   "cell_type": "code",
   "execution_count": null,
   "id": "b243d8a2",
   "metadata": {},
   "outputs": [],
   "source": [
    "crosstable_norm=pd.crosstab(df_supermarket[\"location\"],df_supermarket[\"location_shifted\"],normalize=0 )"
   ]
  },
  {
   "cell_type": "code",
   "execution_count": null,
   "id": "0d06bc74",
   "metadata": {},
   "outputs": [],
   "source": [
    "import numpy as np\n",
    "crosstable.sum(axis=1)"
   ]
  },
  {
   "cell_type": "code",
   "execution_count": null,
   "id": "71d53298",
   "metadata": {},
   "outputs": [],
   "source": [
    "crosstable/crosstable.sum(axis=1)"
   ]
  },
  {
   "cell_type": "code",
   "execution_count": null,
   "id": "bb779ab6",
   "metadata": {},
   "outputs": [],
   "source": [
    "pm=(crosstable.T/crosstable.sum(axis=1)).T"
   ]
  },
  {
   "cell_type": "code",
   "execution_count": null,
   "id": "be2fcda0",
   "metadata": {},
   "outputs": [],
   "source": [
    "pm.loc[\"checkout\",\"checkout\"]=1.0"
   ]
  },
  {
   "cell_type": "code",
   "execution_count": null,
   "id": "6987052c",
   "metadata": {},
   "outputs": [],
   "source": [
    "pm.loc[\"checkout\",\"entry\"]=0.0"
   ]
  },
  {
   "cell_type": "code",
   "execution_count": null,
   "id": "b157298c",
   "metadata": {},
   "outputs": [],
   "source": [
    "pm.sum(axis=1)"
   ]
  },
  {
   "cell_type": "code",
   "execution_count": null,
   "id": "e7030bf2",
   "metadata": {},
   "outputs": [],
   "source": [
    "pickle.dump(pm,open(\"propability_matrix.pickle\",\"wb\"))"
   ]
  }
 ],
 "metadata": {
  "kernelspec": {
   "display_name": "py3_Nspiced",
   "language": "python",
   "name": "py3_nspiced"
  },
  "language_info": {
   "codemirror_mode": {
    "name": "ipython",
    "version": 3
   },
   "file_extension": ".py",
   "mimetype": "text/x-python",
   "name": "python",
   "nbconvert_exporter": "python",
   "pygments_lexer": "ipython3",
   "version": "3.10.6"
  }
 },
 "nbformat": 4,
 "nbformat_minor": 5
}
