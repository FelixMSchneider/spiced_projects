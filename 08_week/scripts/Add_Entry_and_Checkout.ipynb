{
 "cells": [
  {
   "cell_type": "code",
   "execution_count": null,
   "id": "06609466",
   "metadata": {},
   "outputs": [],
   "source": [
    "import pandas as pd"
   ]
  },
  {
   "cell_type": "code",
   "execution_count": null,
   "id": "73701a3f",
   "metadata": {},
   "outputs": [],
   "source": [
    "!head ../rawdata/monday.csv\n"
   ]
  },
  {
   "cell_type": "code",
   "execution_count": null,
   "id": "c2bcf302",
   "metadata": {},
   "outputs": [],
   "source": [
    "dfs=[]\n",
    "shiftid=0\n",
    "for day in [\"monday\", \"tuesday\", \"wednesday\", \"thursday\", \"friday\"]:\n",
    "    df=pd.read_csv(\"../rawdata/\"+day+\".csv\", delimiter= \";\", infer_datetime_format=True)\n",
    "    df[\"timestamp\"]=df[\"timestamp\"].apply(lambda x :  pd.Timestamp(x))\n",
    "    df=df.set_index(\"timestamp\")\n",
    "    df[\"cID\"] = (df[\"customer_no\"]+shiftid).astype(\"str\")\n",
    "    #df[\"cID\"] = df[\"customer_no\"].apply(lambda x: day+\"_\"+str(x))\n",
    "    df=df.drop(\"customer_no\", axis=1)\n",
    "    shiftid=len(df)\n",
    "    dfs.append(df)\n",
    "\n",
    "for i,df in enumerate(dfs):\n",
    "    if i==0: \n",
    "        df_supermarket=df\n",
    "    if i>0:\n",
    "        df_supermarket= pd.concat([df_supermarket,df], axis=0)\n",
    "    "
   ]
  },
  {
   "cell_type": "code",
   "execution_count": null,
   "id": "8af476e8",
   "metadata": {},
   "outputs": [],
   "source": [
    "df_supermarket=df_supermarket.groupby(\"cID\").resample(\"60s\").first().ffill()"
   ]
  },
  {
   "cell_type": "code",
   "execution_count": null,
   "id": "88da9602",
   "metadata": {},
   "outputs": [],
   "source": [
    "df_supermarket=df_supermarket.drop(\"cID\", axis=1).reset_index(\"cID\")"
   ]
  },
  {
   "cell_type": "code",
   "execution_count": null,
   "id": "aa058861",
   "metadata": {},
   "outputs": [],
   "source": [
    "entry_df=pd.DataFrame(df_supermarket.reset_index(\"timestamp\").groupby(\"cID\").first()[\"timestamp\"]-pd.Timedelta(60*1e9))"
   ]
  },
  {
   "cell_type": "code",
   "execution_count": null,
   "id": "9ac04bd8",
   "metadata": {},
   "outputs": [],
   "source": [
    "entry_df[\"location\"] = len(entry_df)* [\"entry\"]"
   ]
  },
  {
   "cell_type": "code",
   "execution_count": null,
   "id": "b61eba6f",
   "metadata": {},
   "outputs": [],
   "source": [
    "df_supermarket.reset_index(inplace=True)\n",
    "entry_df.reset_index(inplace=True)"
   ]
  },
  {
   "cell_type": "code",
   "execution_count": null,
   "id": "7202faa2",
   "metadata": {},
   "outputs": [],
   "source": [
    "entry_df=entry_df[df_supermarket.columns]"
   ]
  },
  {
   "cell_type": "code",
   "execution_count": null,
   "id": "1f5cd9e9",
   "metadata": {},
   "outputs": [],
   "source": [
    "df_supermarket=pd.concat([entry_df, df_supermarket], axis=0)"
   ]
  },
  {
   "cell_type": "code",
   "execution_count": null,
   "id": "e587966f",
   "metadata": {},
   "outputs": [],
   "source": [
    "df_supermarket.reset_index(drop=True, inplace=True)"
   ]
  },
  {
   "cell_type": "code",
   "execution_count": null,
   "id": "9d31f3f3",
   "metadata": {},
   "outputs": [],
   "source": [
    "df_supermarket[df_supermarket[\"cID\"]==\"1\"]"
   ]
  },
  {
   "cell_type": "code",
   "execution_count": null,
   "id": "2911bfaa",
   "metadata": {},
   "outputs": [],
   "source": [
    "IDs_with_checkout=df_supermarket.groupby(\"location\").get_group(\"checkout\")[\"cID\"]"
   ]
  },
  {
   "cell_type": "code",
   "execution_count": null,
   "id": "246b7469",
   "metadata": {},
   "outputs": [],
   "source": [
    "allIDs=df_supermarket[\"cID\"].unique()"
   ]
  },
  {
   "cell_type": "code",
   "execution_count": null,
   "id": "478bcad2",
   "metadata": {},
   "outputs": [],
   "source": [
    "IDs_without_checkout=list(set(allIDs) - set(IDs_with_checkout))"
   ]
  },
  {
   "cell_type": "code",
   "execution_count": null,
   "id": "4b2be845",
   "metadata": {},
   "outputs": [],
   "source": [
    "df_subset_no_checkout=df_supermarket[df_supermarket[\"cID\"].isin(IDs_without_checkout)]"
   ]
  },
  {
   "cell_type": "code",
   "execution_count": null,
   "id": "b0afa38b",
   "metadata": {},
   "outputs": [],
   "source": [
    "checkout_df=pd.DataFrame(df_subset_no_checkout.groupby(\"cID\").last()[\"timestamp\"]+pd.Timedelta(60*1e9))"
   ]
  },
  {
   "cell_type": "code",
   "execution_count": null,
   "id": "09a01961",
   "metadata": {},
   "outputs": [],
   "source": [
    "checkout_df[\"location\"] = len(checkout_df)* [\"checkout\"]"
   ]
  },
  {
   "cell_type": "code",
   "execution_count": null,
   "id": "41f98602",
   "metadata": {},
   "outputs": [],
   "source": [
    "checkout_df.reset_index(inplace=True)"
   ]
  },
  {
   "cell_type": "code",
   "execution_count": null,
   "id": "f42701a7",
   "metadata": {},
   "outputs": [],
   "source": [
    "checkout_df=checkout_df[df_supermarket.columns]"
   ]
  },
  {
   "cell_type": "code",
   "execution_count": null,
   "id": "019897ed",
   "metadata": {},
   "outputs": [],
   "source": [
    "df_supermarket=pd.concat([df_supermarket, checkout_df, ], axis=0)"
   ]
  },
  {
   "cell_type": "code",
   "execution_count": null,
   "id": "65ab2adb",
   "metadata": {},
   "outputs": [],
   "source": [
    "df_supermarket[df_supermarket[\"cID\"]==IDs_without_checkout[1]]"
   ]
  },
  {
   "cell_type": "code",
   "execution_count": null,
   "id": "657d1444",
   "metadata": {},
   "outputs": [],
   "source": [
    "df_supermarket.memory_usage()"
   ]
  },
  {
   "cell_type": "code",
   "execution_count": null,
   "id": "02f347d9",
   "metadata": {},
   "outputs": [],
   "source": [
    "df_supermarket"
   ]
  },
  {
   "cell_type": "code",
   "execution_count": null,
   "id": "2a6e3771",
   "metadata": {},
   "outputs": [],
   "source": [
    "import pickle\n",
    "pickle.dump(df_supermarket,open(\"df_supermarket.pickle\", \"wb\"))"
   ]
  }
 ],
 "metadata": {
  "kernelspec": {
   "display_name": "py3_Nspiced",
   "language": "python",
   "name": "py3_nspiced"
  },
  "language_info": {
   "codemirror_mode": {
    "name": "ipython",
    "version": 3
   },
   "file_extension": ".py",
   "mimetype": "text/x-python",
   "name": "python",
   "nbconvert_exporter": "python",
   "pygments_lexer": "ipython3",
   "version": "3.10.6"
  }
 },
 "nbformat": 4,
 "nbformat_minor": 5
}
