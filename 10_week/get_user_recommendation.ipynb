{
 "cells": [
  {
   "cell_type": "code",
   "execution_count": 3,
   "metadata": {},
   "outputs": [],
   "source": [
    "import numpy as np"
   ]
  },
  {
   "cell_type": "code",
   "execution_count": 6,
   "metadata": {},
   "outputs": [],
   "source": [
    "import pandas as pd\n",
    "\n",
    "datapath=\"../../../10_week/data/ml-latest-small/\"#\n",
    "\n",
    "df_movies=pd.read_csv(datapath+\"movies.csv\")\n",
    "df_ratings=pd.read_csv(datapath+\"ratings.csv\")\n",
    "df_mov_rat=pd.merge(df_ratings,df_movies, on=\"movieId\", how=\"inner\")\n",
    "\n",
    "df_mov_rat=df_mov_rat[[\"userId\",  \"rating\", \"title\"]]\n",
    "rating_mat=pd.pivot_table(data=df_mov_rat,index=\"userId\", columns=\"title\", values=\"rating\")\n",
    "number_of_films_rated=(rating_mat.shape[1] - rating_mat.isna().sum(axis=1))\n",
    "\n",
    "rating_mat30=rating_mat[number_of_films_rated>30]\n",
    "ratings=((rating_mat30.T).fillna(rating_mat30.T.mean())).T\n",
    "\n",
    "\n",
    "\n",
    "all_movies=list(ratings.columns)\n",
    "\n",
    "# load the model\n",
    "\n",
    "import pickle\n",
    "\n",
    "with open('nmf_model_ratings1.pkl',mode='rb') as file:\n",
    "    nmf_model=pickle.load(file)"
   ]
  },
  {
   "cell_type": "code",
   "execution_count": 8,
   "metadata": {},
   "outputs": [
    {
     "data": {
      "text/plain": [
       "array([\"'71 (2014)\", \"'Hellboy': The Seeds of Creation (2004)\",\n",
       "       \"'Round Midnight (1986)\", ..., 'xXx: State of the Union (2005)',\n",
       "       '¡Three Amigos! (1986)',\n",
       "       'À nous la liberté (Freedom for Us) (1931)'], dtype=object)"
      ]
     },
     "execution_count": 8,
     "metadata": {},
     "output_type": "execute_result"
    }
   ],
   "source": [
    "nmf_model.feature_names_in_"
   ]
  },
  {
   "cell_type": "code",
   "execution_count": 9,
   "metadata": {},
   "outputs": [],
   "source": [
    "all_movies=np.array(all_movies)"
   ]
  },
  {
   "cell_type": "code",
   "execution_count": 10,
   "metadata": {},
   "outputs": [],
   "source": [
    "def convert_filmnames(query, all_movies):\n",
    "    newquery={}\n",
    "    for filmname in query.keys():\n",
    "        true_false_list=[filmname in a for a in all_movies]\n",
    "        filmexist = True in true_false_list\n",
    "        if not filmexist:\n",
    "            print(\"film\",filmname, \"has to be removed, since it is not in the metrics\")\n",
    "        else:\n",
    "            index=np.where(np.array(true_false_list))[0][0]\n",
    "            new_filmname=all_movies[index]\n",
    "            newquery[new_filmname] = query[filmname]\n",
    "    return newquery"
   ]
  },
  {
   "cell_type": "code",
   "execution_count": 11,
   "metadata": {},
   "outputs": [],
   "source": [
    "def recommend_nmf(query, model, k=10):\n",
    "    \"\"\"\n",
    "    Filters and recommends the top k movies for any given input query based on a trained NMF model.\n",
    "    Returns a list of k movie ids.\n",
    "    \"\"\"\n",
    "    \n",
    "    query=convert_filmnames(query, model.feature_names_in_)\n",
    "    \n",
    "    \n",
    "    recommendations = []\n",
    "    # 1. candidate generation\n",
    "    # construct new_user-item dataframe given the query\n",
    "    new_user_dataframe =  pd.DataFrame(data=query,\n",
    "            columns=model.feature_names_in_,\n",
    "            index = ['new_user'])\n",
    "    new_user_dataframe_imputed = new_user_dataframe.fillna(float(new_user_dataframe.T.mean()))\n",
    "    \n",
    "    P_new_user_matrix = model.transform(new_user_dataframe_imputed)\n",
    "    #doing the R\n",
    "    Q_matrix=model.components_\n",
    "    R_hat_new_user_matrix = np.dot(P_new_user_matrix, Q_matrix)\n",
    "    R_hat_new_user = pd.DataFrame(data=R_hat_new_user_matrix,\n",
    "                         columns=model.feature_names_in_,\n",
    "                         index = ['new_user'])\n",
    "    # 3. ranking\n",
    "    R_hat_new_user.transpose().sort_values(by=['new_user'], ascending=False)\n",
    "    # filter out movies allready seen by the user\n",
    "    R_hat_new_user.transpose().loc[list(query.keys()),:] = 0\n",
    "    # return the top-k highest rated movie ids or titles\n",
    "    recommendations= R_hat_new_user.transpose().sort_values(by=['new_user'],ascending=False).head(k)\n",
    "    \n",
    "    return recommendations"
   ]
  },
  {
   "cell_type": "code",
   "execution_count": 12,
   "metadata": {},
   "outputs": [],
   "source": [
    "def get_random_query(n, all_movies_X, seed=123):\n",
    "    query={}\n",
    "    rng = np.random.default_rng(123)\n",
    "    for i in range(n):\n",
    "        rng.shuffle(all_movies_X)\n",
    "        movie=all_movies_X[0]\n",
    "        all_movies_X=all_movies_X[1:]\n",
    "        rand_rating=rng.integers(1,6)    \n",
    "        query[movie]=rand_rating\n",
    "        \n",
    "    return query"
   ]
  },
  {
   "cell_type": "code",
   "execution_count": 13,
   "metadata": {},
   "outputs": [
    {
     "data": {
      "text/plain": [
       "{'Denise Calls Up (1995)': 5}"
      ]
     },
     "execution_count": 13,
     "metadata": {},
     "output_type": "execute_result"
    }
   ],
   "source": [
    " get_random_query(1, list(nmf_model.feature_names_in_), seed=123)"
   ]
  },
  {
   "cell_type": "code",
   "execution_count": 14,
   "metadata": {},
   "outputs": [],
   "source": [
    "query_action={\"Matrix\": 5, \"Star Wars\": 5, \"Independence Day\": 5 , \"Gladiator\":5,  \"Batman Begins\": 5, \"Avatar\": 5, \"Kill Bill\": 5, \"Iron Man\": 4, \"Jurassic Park\": 5, \"Titanic\": 1, \"Amelie\": 2, \"Pretty Woman\": 1 }"
   ]
  },
  {
   "cell_type": "code",
   "execution_count": 15,
   "metadata": {},
   "outputs": [
    {
     "data": {
      "text/html": [
       "<div>\n",
       "<style scoped>\n",
       "    .dataframe tbody tr th:only-of-type {\n",
       "        vertical-align: middle;\n",
       "    }\n",
       "\n",
       "    .dataframe tbody tr th {\n",
       "        vertical-align: top;\n",
       "    }\n",
       "\n",
       "    .dataframe thead th {\n",
       "        text-align: right;\n",
       "    }\n",
       "</style>\n",
       "<table border=\"1\" class=\"dataframe\">\n",
       "  <thead>\n",
       "    <tr style=\"text-align: right;\">\n",
       "      <th></th>\n",
       "      <th>new_user</th>\n",
       "    </tr>\n",
       "  </thead>\n",
       "  <tbody>\n",
       "    <tr>\n",
       "      <th>Silence of the Lambs, The (1991)</th>\n",
       "      <td>4.459075</td>\n",
       "    </tr>\n",
       "    <tr>\n",
       "      <th>Star Wars: Episode IV - A New Hope (1977)</th>\n",
       "      <td>4.345834</td>\n",
       "    </tr>\n",
       "    <tr>\n",
       "      <th>Seven (a.k.a. Se7en) (1995)</th>\n",
       "      <td>4.343012</td>\n",
       "    </tr>\n",
       "    <tr>\n",
       "      <th>Beautiful Mind, A (2001)</th>\n",
       "      <td>4.279605</td>\n",
       "    </tr>\n",
       "    <tr>\n",
       "      <th>Star Wars: Episode V - The Empire Strikes Back (1980)</th>\n",
       "      <td>4.274368</td>\n",
       "    </tr>\n",
       "    <tr>\n",
       "      <th>Raiders of the Lost Ark (Indiana Jones and the Raiders of the Lost Ark) (1981)</th>\n",
       "      <td>4.265091</td>\n",
       "    </tr>\n",
       "    <tr>\n",
       "      <th>Life Is Beautiful (La Vita è bella) (1997)</th>\n",
       "      <td>4.248080</td>\n",
       "    </tr>\n",
       "    <tr>\n",
       "      <th>Titanic (1997)</th>\n",
       "      <td>4.237547</td>\n",
       "    </tr>\n",
       "    <tr>\n",
       "      <th>Lord of the Rings: The Fellowship of the Ring, The (2001)</th>\n",
       "      <td>4.232179</td>\n",
       "    </tr>\n",
       "    <tr>\n",
       "      <th>Mask, The (1994)</th>\n",
       "      <td>4.227738</td>\n",
       "    </tr>\n",
       "  </tbody>\n",
       "</table>\n",
       "</div>"
      ],
      "text/plain": [
       "                                                    new_user\n",
       "Silence of the Lambs, The (1991)                    4.459075\n",
       "Star Wars: Episode IV - A New Hope (1977)           4.345834\n",
       "Seven (a.k.a. Se7en) (1995)                         4.343012\n",
       "Beautiful Mind, A (2001)                            4.279605\n",
       "Star Wars: Episode V - The Empire Strikes Back ...  4.274368\n",
       "Raiders of the Lost Ark (Indiana Jones and the ...  4.265091\n",
       "Life Is Beautiful (La Vita è bella) (1997)          4.248080\n",
       "Titanic (1997)                                      4.237547\n",
       "Lord of the Rings: The Fellowship of the Ring, ...  4.232179\n",
       "Mask, The (1994)                                    4.227738"
      ]
     },
     "execution_count": 15,
     "metadata": {},
     "output_type": "execute_result"
    }
   ],
   "source": [
    "recommend_nmf(query_action, nmf_model, k=10)"
   ]
  },
  {
   "cell_type": "code",
   "execution_count": 16,
   "metadata": {},
   "outputs": [],
   "source": [
    "query_romance={\"Matrix\": 1, \"Star Wars\": 1, \"Independence Day\": 2 , \"Gladiator\":1,  \"Batman Begins\": 2, \"Avatar\": 1, \"Kill Bill\": 1, \"Iron Man\": 2, \"Jurassic Park\": 1, \"Titanic\": 5, \"Amelie\": 5, \"Pretty Woman\": 5 }"
   ]
  },
  {
   "cell_type": "code",
   "execution_count": 17,
   "metadata": {},
   "outputs": [
    {
     "data": {
      "text/html": [
       "<div>\n",
       "<style scoped>\n",
       "    .dataframe tbody tr th:only-of-type {\n",
       "        vertical-align: middle;\n",
       "    }\n",
       "\n",
       "    .dataframe tbody tr th {\n",
       "        vertical-align: top;\n",
       "    }\n",
       "\n",
       "    .dataframe thead th {\n",
       "        text-align: right;\n",
       "    }\n",
       "</style>\n",
       "<table border=\"1\" class=\"dataframe\">\n",
       "  <thead>\n",
       "    <tr style=\"text-align: right;\">\n",
       "      <th></th>\n",
       "      <th>new_user</th>\n",
       "    </tr>\n",
       "  </thead>\n",
       "  <tbody>\n",
       "    <tr>\n",
       "      <th>Titanic (1997)</th>\n",
       "      <td>2.467602</td>\n",
       "    </tr>\n",
       "    <tr>\n",
       "      <th>Seven (a.k.a. Se7en) (1995)</th>\n",
       "      <td>2.439546</td>\n",
       "    </tr>\n",
       "    <tr>\n",
       "      <th>Pulp Fiction (1994)</th>\n",
       "      <td>2.434945</td>\n",
       "    </tr>\n",
       "    <tr>\n",
       "      <th>Silence of the Lambs, The (1991)</th>\n",
       "      <td>2.431087</td>\n",
       "    </tr>\n",
       "    <tr>\n",
       "      <th>Spirited Away (Sen to Chihiro no kamikakushi) (2001)</th>\n",
       "      <td>2.425435</td>\n",
       "    </tr>\n",
       "    <tr>\n",
       "      <th>Memento (2000)</th>\n",
       "      <td>2.409878</td>\n",
       "    </tr>\n",
       "    <tr>\n",
       "      <th>Requiem for a Dream (2000)</th>\n",
       "      <td>2.409423</td>\n",
       "    </tr>\n",
       "    <tr>\n",
       "      <th>Lord of the Rings: The Fellowship of the Ring, The (2001)</th>\n",
       "      <td>2.403493</td>\n",
       "    </tr>\n",
       "    <tr>\n",
       "      <th>Life Is Beautiful (La Vita è bella) (1997)</th>\n",
       "      <td>2.403125</td>\n",
       "    </tr>\n",
       "    <tr>\n",
       "      <th>Amadeus (1984)</th>\n",
       "      <td>2.398961</td>\n",
       "    </tr>\n",
       "  </tbody>\n",
       "</table>\n",
       "</div>"
      ],
      "text/plain": [
       "                                                    new_user\n",
       "Titanic (1997)                                      2.467602\n",
       "Seven (a.k.a. Se7en) (1995)                         2.439546\n",
       "Pulp Fiction (1994)                                 2.434945\n",
       "Silence of the Lambs, The (1991)                    2.431087\n",
       "Spirited Away (Sen to Chihiro no kamikakushi) (...  2.425435\n",
       "Memento (2000)                                      2.409878\n",
       "Requiem for a Dream (2000)                          2.409423\n",
       "Lord of the Rings: The Fellowship of the Ring, ...  2.403493\n",
       "Life Is Beautiful (La Vita è bella) (1997)          2.403125\n",
       "Amadeus (1984)                                      2.398961"
      ]
     },
     "execution_count": 17,
     "metadata": {},
     "output_type": "execute_result"
    }
   ],
   "source": [
    "recommend_nmf(query_romance, nmf_model, k=10)"
   ]
  }
 ],
 "metadata": {
  "kernelspec": {
   "display_name": "py3_Nspiced",
   "language": "python",
   "name": "py3_nspiced"
  },
  "language_info": {
   "codemirror_mode": {
    "name": "ipython",
    "version": 3
   },
   "file_extension": ".py",
   "mimetype": "text/x-python",
   "name": "python",
   "nbconvert_exporter": "python",
   "pygments_lexer": "ipython3",
   "version": "3.10.6"
  }
 },
 "nbformat": 4,
 "nbformat_minor": 5
}
